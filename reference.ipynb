{
 "cells": [
  {
   "cell_type": "markdown",
   "metadata": {},
   "source": [
    "# QPC Scattering matrix"
   ]
  },
  {
   "cell_type": "code",
   "execution_count": 1,
   "metadata": {},
   "outputs": [],
   "source": [
    "import numpy as np\n",
    "import matplotlib.pyplot as plt\n",
    "from mpl_toolkits.mplot3d.axes3d import Axes3D\n",
    "%matplotlib inline"
   ]
  },
  {
   "cell_type": "markdown",
   "metadata": {},
   "source": [
    "## Define all functions and initialize constants"
   ]
  },
  {
   "cell_type": "code",
   "execution_count": 2,
   "metadata": {},
   "outputs": [],
   "source": [
    "def T(mu):\n",
    "    \"\"\"\n",
    "    This function gen\n",
    "    erates a transfer matrix for a potential V. \n",
    "    \"\"\"\n",
    "    # Imaginary identity matrix\n",
    "    Im = np.zeros((N, N), dtype=complex)\n",
    "    np.fill_diagonal(Im, 1j)\n",
    "    v = np.ones(N-1)\n",
    "    # Tight binding Hamiltonian\n",
    "    H = np.diag(-v, -1) + np.diag(4*np.ones(N)-mu, 0) + np.diag(-v, 1)\n",
    "    T11 = -Im + 0.5 * H\n",
    "    T12 = -0.5 * H\n",
    "    T21 = -0.5 * H\n",
    "    T22 = Im + 0.5 * H\n",
    "    return np.array(np.bmat([[T11, T12], [T21, T22]]))\n",
    "\n",
    "\n",
    "def S(T):\n",
    "    \"\"\"\n",
    "    This function takes a chemical potential as input and \n",
    "    generates the S-matrix and the compontents of S.\n",
    "\n",
    "    The output-format is matrix-like, as it makes the calculations much easier.\n",
    "    \"\"\"\n",
    "    T11 = T[:N, :N]\n",
    "    T12 = T[:N, N:2*N]\n",
    "    T21 = T[N:2*N, :N]\n",
    "    T22 = T[N:2*N, N:2*N]\n",
    "    T22_inv = np.linalg.inv(T22)\n",
    "\n",
    "    S11 = -T22_inv.dot(T21)\n",
    "    S12 = T22_inv\n",
    "    S21 = T11 - T12.dot(T22_inv).dot(T21)\n",
    "    S22 = T12.dot(T22_inv)\n",
    "    return np.array(np.bmat([[S11, S12], [S21, S22]]))\n",
    "\n",
    "\n",
    "def add_S(S_1, S_2):\n",
    "    \"\"\"\n",
    "    Adds the old S-matrix S_1 to S_2. Implements equation B6 of \"Calculation ... Chalker-Coddington\n",
    "    network model\" by Snyman et al.\n",
    "    \"\"\"\n",
    "    S11_1 = S_1[:N, :N]\n",
    "    S12_1 = S_1[:N, N:2*N]\n",
    "    S21_1 = S_1[N:2*N, :N]\n",
    "    S22_1 = S_1[N:2*N, N:2*N]\n",
    "\n",
    "    S11_2 = S_2[:N, :N]\n",
    "    S12_2 = S_2[:N, N:2*N]\n",
    "    S21_2 = S_2[N:2*N, :N]\n",
    "    S22_2 = S_2[N:2*N, N:2*N]\n",
    "\n",
    "    #return S11_1, S12_1, S21_1, S22_1\n",
    "    \n",
    "    inv_1 = np.linalg.inv(np.eye(N) - S11_2.dot(S22_1))\n",
    "    inv_2 = np.linalg.inv(np.eye(N) - S22_1.dot(S11_2))\n",
    "\n",
    "    S11 = S11_1 + S12_1.dot(inv_1).dot(S11_2).dot(S21_1)\n",
    "    S12 = S12_1.dot(inv_1).dot(S12_2)\n",
    "    S21 = S21_2.dot(inv_2).dot(S21_1)\n",
    "    S22 = S22_2 + S21_2.dot(inv_2).dot(S22_1).dot(S12_2)\n",
    "    #return S22\n",
    "\n",
    "    return np.array(np.bmat([[S11, S12], [S21, S22]]))\n",
    "\n",
    "\n",
    "def generate_S_tot(V, L):\n",
    "    \"\"\" \n",
    "    Generates a S-matrix of the combined slices for a potential V.\n",
    "    \"\"\"\n",
    "    S_tot = S(T(V[:, 0]))\n",
    "    for j in range(1, L):\n",
    "        S_tot = add_S(S_tot, S(T(V[:, j])))\n",
    "    return S_tot\n",
    "\n",
    "\n",
    "def generate_S_tot_opt(V, L):\n",
    "    \"\"\" \n",
    "    Generates a S-matrix by multiplying 10 transfer matrices and then adding it to the S_tot matrix.\n",
    "    In this way we save processor time. (An overall speedup of the whole program of 2x is reached)\n",
    "    \"\"\"\n",
    "    T_tot = T(V[:, 0])\n",
    "    S_tot = S(T(V[:, 0]))\n",
    "    assert L % 10 == 0, \"L must be a multiple of 10! Or set the argument 'opt' to false.\"\n",
    "    for j in range(1, L):\n",
    "        if j % 10 != 0:\n",
    "            T_tot = T(V[:, j]).dot(T_tot)\n",
    "        else:\n",
    "            S_tot = add_S(S_tot, S(T_tot))\n",
    "            T_tot = T(V[:, j])\n",
    "\n",
    "    return S_tot\n",
    "\n",
    "\n",
    "def smooth_potential(mu, L, xx=1, yy=1, h=1, plot=False):\n",
    "    \"\"\" \n",
    "    Generate a smooth potential\n",
    "    \"\"\"\n",
    "    x = np.linspace(-xx, xx, L)\n",
    "    y = np.linspace(-yy, yy, N)\n",
    "    X, Y = np.meshgrid(x, y)\n",
    "    V = -0.5 * h * (np.tanh(Y**2-X**2) + 1) + mu\n",
    "\n",
    "    if plot == True:\n",
    "        fig = plt.figure()\n",
    "        ax = fig.add_subplot(1, 2, 1, projection='3d')\n",
    "        title = ax.set_title(\"Potential\")\n",
    "        plt.xlabel('$x$ (L)')\n",
    "        plt.ylabel('$y$')\n",
    "        p = ax.plot_surface(X, Y, V)\n",
    "\n",
    "        ax = fig.add_subplot(1, 2, 2)\n",
    "        plot = ax.matshow(V)\n",
    "        fig.colorbar(plot)\n",
    "        ax.set_xlabel(r'$x$ (L)')\n",
    "        ax.set_ylabel(r'$y$')\n",
    "        plt.show()\n",
    "    return V\n",
    "\n",
    "\n",
    "def error(S):\n",
    "    return np.linalg.norm(S.dot(S.T.conj()) - np.eye(len(S)))"
   ]
  },
  {
   "cell_type": "code",
   "execution_count": 3,
   "metadata": {},
   "outputs": [
    {
     "data": {
      "text/plain": [
       "array([[ 1.75-1.j, -0.5 +0.j,  0.  +0.j, ..., -0.  +0.j, -0.  +0.j,\n",
       "        -0.  +0.j],\n",
       "       [-0.5 +0.j,  1.75-1.j, -0.5 +0.j, ..., -0.  +0.j, -0.  +0.j,\n",
       "        -0.  +0.j],\n",
       "       [ 0.  +0.j, -0.5 +0.j,  1.75-1.j, ..., -0.  +0.j, -0.  +0.j,\n",
       "        -0.  +0.j],\n",
       "       ...,\n",
       "       [-0.  +0.j, -0.  +0.j, -0.  +0.j, ...,  1.75+1.j, -0.5 +0.j,\n",
       "         0.  +0.j],\n",
       "       [-0.  +0.j, -0.  +0.j, -0.  +0.j, ..., -0.5 +0.j,  1.75+1.j,\n",
       "        -0.5 +0.j],\n",
       "       [-0.  +0.j, -0.  +0.j, -0.  +0.j, ...,  0.  +0.j, -0.5 +0.j,\n",
       "         1.75+1.j]])"
      ]
     },
     "execution_count": 3,
     "metadata": {},
     "output_type": "execute_result"
    }
   ],
   "source": [
    "## Python constructor methods, export matrices to julia comparison\n",
    "\n",
    "# defs\n",
    "N = 40\n",
    "L = 200\n",
    "mu = 0.5\n",
    "\n",
    "# T(mu) export\n",
    "T_export = T(mu)\n",
    "#np.savetxt('matrices/T_python.csv', T_export, delimiter=',', fmt='%f')\n",
    "\n",
    "T_export"
   ]
  },
  {
   "cell_type": "code",
   "execution_count": 4,
   "metadata": {},
   "outputs": [
    {
     "data": {
      "text/plain": [
       "array([[ 7.21746844e-01-4.27470514e-01j, -1.18945020e-01-5.26531105e-02j,\n",
       "        -3.27481914e-02+5.29458747e-03j, ...,\n",
       "        -5.63057235e-23-3.60762109e-24j, -1.25915250e-23+7.04044531e-24j,\n",
       "        -1.84550441e-24+3.06612975e-24j],\n",
       "       [-1.18945020e-01-5.26531105e-02j,  6.88998652e-01-4.22175926e-01j,\n",
       "        -1.25207845e-01-4.69653267e-02j, ...,\n",
       "        -1.89854790e-22-1.25238121e-22j, -5.81512280e-23-5.41491338e-25j,\n",
       "        -1.25915250e-23+7.04044531e-24j],\n",
       "       [-3.27481914e-02+5.29458747e-03j, -1.25207845e-01-4.69653267e-02j,\n",
       "         6.88451388e-01-4.20088921e-01j, ...,\n",
       "        -3.57709800e-22-8.14435383e-22j, -1.89854790e-22-1.25238121e-22j,\n",
       "        -5.63057235e-23-3.60762109e-24j],\n",
       "       ...,\n",
       "       [-5.63057235e-23-3.60762109e-24j, -1.89854790e-22-1.25238121e-22j,\n",
       "        -3.57709800e-22-8.14435383e-22j, ...,\n",
       "        -6.88451388e-01+4.20088921e-01j,  1.25207845e-01+4.69653267e-02j,\n",
       "         3.27481914e-02-5.29458747e-03j],\n",
       "       [-1.25915250e-23+7.04044531e-24j, -5.81512280e-23-5.41491338e-25j,\n",
       "        -1.89854790e-22-1.25238121e-22j, ...,\n",
       "         1.25207845e-01+4.69653267e-02j, -6.88998652e-01+4.22175926e-01j,\n",
       "         1.18945020e-01+5.26531105e-02j],\n",
       "       [-1.84550441e-24+3.06612975e-24j, -1.25915250e-23+7.04044531e-24j,\n",
       "        -5.63057235e-23-3.60762109e-24j, ...,\n",
       "         3.27481914e-02-5.29458747e-03j,  1.18945020e-01+5.26531105e-02j,\n",
       "        -7.21746844e-01+4.27470514e-01j]])"
      ]
     },
     "execution_count": 4,
     "metadata": {},
     "output_type": "execute_result"
    }
   ],
   "source": [
    "# S(T(mu)) export\n",
    "S_export = S(T_export)\n",
    "#np.savetxt('matrices/S_python.csv', S_export, delimiter=',', fmt='%f')\n",
    "S_export"
   ]
  },
  {
   "cell_type": "code",
   "execution_count": 5,
   "metadata": {},
   "outputs": [
    {
     "data": {
      "text/plain": [
       "array([[ 7.47173495e-01-5.75594215e-01j, -1.65006229e-01-1.32397301e-01j,\n",
       "        -7.51103277e-02-1.15731184e-02j, ...,\n",
       "         1.27923583e-15-7.24421606e-16j,  3.25377802e-16-5.07931105e-16j,\n",
       "         4.21397793e-17-2.20028354e-16j],\n",
       "       [-1.65006229e-01-1.32397301e-01j,  6.72063168e-01-5.87167333e-01j,\n",
       "        -1.91684191e-01-1.21531755e-01j, ...,\n",
       "         3.92251118e-15-5.31818186e-16j,  1.32137561e-15-9.44449960e-16j,\n",
       "         3.25377802e-16-5.07931105e-16j],\n",
       "       [-7.51103277e-02-1.15731184e-02j, -1.91684191e-01-1.21531755e-01j,\n",
       "         6.65253528e-01-5.78120793e-01j, ...,\n",
       "         9.05886031e-15+3.31738733e-15j,  3.92251118e-15-5.31818186e-16j,\n",
       "         1.27923583e-15-7.24421606e-16j],\n",
       "       ...,\n",
       "       [ 1.27923583e-15-7.24421606e-16j,  3.92251118e-15-5.31818186e-16j,\n",
       "         9.05886031e-15+3.31738733e-15j, ...,\n",
       "        -6.65253528e-01+5.78120793e-01j,  1.91684191e-01+1.21531755e-01j,\n",
       "         7.51103277e-02+1.15731184e-02j],\n",
       "       [ 3.25377802e-16-5.07931105e-16j,  1.32137561e-15-9.44449960e-16j,\n",
       "         3.92251118e-15-5.31818186e-16j, ...,\n",
       "         1.91684191e-01+1.21531755e-01j, -6.72063168e-01+5.87167333e-01j,\n",
       "         1.65006229e-01+1.32397301e-01j],\n",
       "       [ 4.21397793e-17-2.20028354e-16j,  3.25377802e-16-5.07931105e-16j,\n",
       "         1.27923583e-15-7.24421606e-16j, ...,\n",
       "         7.51103277e-02+1.15731184e-02j,  1.65006229e-01+1.32397301e-01j,\n",
       "        -7.47173495e-01+5.75594215e-01j]])"
      ]
     },
     "execution_count": 5,
     "metadata": {},
     "output_type": "execute_result"
    }
   ],
   "source": [
    "# add_S export\n",
    "addS_export = add_S(S_export, S_export)\n",
    "#np.savetxt('matrices/addS_python.csv', addS_export, delimiter=',', fmt='%f')\n",
    "addS_export"
   ]
  },
  {
   "cell_type": "code",
   "execution_count": 6,
   "metadata": {},
   "outputs": [
    {
     "data": {
      "image/png": "[encoded data removed]",
      "text/plain": [
       "<Figure size 432x288 with 3 Axes>"
      ]
     },
     "metadata": {
      "needs_background": "light"
     },
     "output_type": "display_data"
    },
    {
     "data": {
      "text/plain": [
       "array([[ 0.        , -0.00999841, -0.01988799, ..., -0.01988799,\n",
       "        -0.00999841,  0.        ],\n",
       "       [ 0.04980145,  0.03988247,  0.03003244, ...,  0.03003244,\n",
       "         0.03988247,  0.04980145],\n",
       "       [ 0.09609434,  0.08642809,  0.0767934 , ...,  0.0767934 ,\n",
       "         0.08642809,  0.09609434],\n",
       "       ...,\n",
       "       [ 0.09609434,  0.08642809,  0.0767934 , ...,  0.0767934 ,\n",
       "         0.08642809,  0.09609434],\n",
       "       [ 0.04980145,  0.03988247,  0.03003244, ...,  0.03003244,\n",
       "         0.03988247,  0.04980145],\n",
       "       [ 0.        , -0.00999841, -0.01988799, ..., -0.01988799,\n",
       "        -0.00999841,  0.        ]])"
      ]
     },
     "execution_count": 6,
     "metadata": {},
     "output_type": "execute_result"
    }
   ],
   "source": [
    "# smooth_potential export\n",
    "sP_export = smooth_potential(mu, L, xx=1, yy=1, h=1, plot=True)\n",
    "#np.savetxt('matrices/sP_python.csv', sP_export, delimiter=',', fmt='%f')\n",
    "sP_export"
   ]
  },
  {
   "cell_type": "code",
   "execution_count": 10,
   "metadata": {},
   "outputs": [
    {
     "data": {
      "text/plain": [
       "array([[ 8.18229866e-01-5.35688661e-01j, -1.18335924e-01-1.44547281e-01j,\n",
       "        -6.52012790e-02-3.82102220e-02j, ...,\n",
       "         1.20787696e-09-6.17855170e-10j,  6.36458056e-10-3.33066938e-10j,\n",
       "         2.68564375e-10-1.42800464e-10j],\n",
       "       [-1.18335924e-01-1.44547281e-01j,  7.47132740e-01-5.81099656e-01j,\n",
       "        -1.61969619e-01-1.56764781e-01j, ...,\n",
       "         2.86211191e-09-1.44036927e-09j,  1.50822890e-09-7.76687099e-10j,\n",
       "         6.36458056e-10-3.33066938e-10j],\n",
       "       [-6.52012790e-02-3.82102220e-02j, -1.61969619e-01-1.56764781e-01j,\n",
       "         7.10672332e-01-5.89356259e-01j, ...,\n",
       "         5.43073828e-09-2.67002687e-09j,  2.86211191e-09-1.44036927e-09j,\n",
       "         1.20787696e-09-6.17855170e-10j],\n",
       "       ...,\n",
       "       [ 1.20787696e-09-6.17855170e-10j,  2.86211191e-09-1.44036927e-09j,\n",
       "         5.43073828e-09-2.67002687e-09j, ...,\n",
       "        -7.10672332e-01+5.89356259e-01j,  1.61969619e-01+1.56764781e-01j,\n",
       "         6.52012790e-02+3.82102220e-02j],\n",
       "       [ 6.36458056e-10-3.33066938e-10j,  1.50822890e-09-7.76687099e-10j,\n",
       "         2.86211191e-09-1.44036927e-09j, ...,\n",
       "         1.61969619e-01+1.56764781e-01j, -7.47132740e-01+5.81099656e-01j,\n",
       "         1.18335924e-01+1.44547281e-01j],\n",
       "       [ 2.68564375e-10-1.42800464e-10j,  6.36458056e-10-3.33066938e-10j,\n",
       "         1.20787696e-09-6.17855170e-10j, ...,\n",
       "         6.52012790e-02+3.82102220e-02j,  1.18335924e-01+1.44547281e-01j,\n",
       "        -8.18229866e-01+5.35688661e-01j]])"
      ]
     },
     "execution_count": 10,
     "metadata": {},
     "output_type": "execute_result"
    }
   ],
   "source": [
    "# generate_S_tot export\n",
    "genSt_export = generate_S_tot(sP_export, L)\n",
    "#np.savetxt('matrices/genSt_python.csv', genSt_export, delimiter=',', fmt='%f')\n",
    "#np.shape(genSt_export)\n",
    "genSt_export"
   ]
  },
  {
   "cell_type": "code",
   "execution_count": 11,
   "metadata": {},
   "outputs": [
    {
     "data": {
      "text/plain": [
       "array([[ 8.18155136e-01-5.35486197e-01j, -1.18230669e-01-1.43873775e-01j,\n",
       "        -6.45900938e-02-3.68564491e-02j, ...,\n",
       "        -2.71829588e-10-5.43511451e-10j, -1.57864827e-10-2.86850382e-10j,\n",
       "        -7.09844575e-11-1.21299831e-10j],\n",
       "       [-1.18230354e-01-1.43873285e-01j,  7.47674957e-01-5.79509702e-01j,\n",
       "        -1.60361462e-01-1.53799693e-01j, ...,\n",
       "        -6.24688527e-10-1.27260008e-09j, -3.63286777e-10-6.71893051e-10j,\n",
       "        -1.63486397e-10-2.84195372e-10j],\n",
       "       [-6.45897416e-02-3.68562951e-02j, -1.60361825e-01-1.53800958e-01j,\n",
       "         7.14060631e-01-5.84309923e-01j, ...,\n",
       "        -1.13415665e-09-2.37414846e-09j, -6.60916769e-10-1.25413859e-09j,\n",
       "        -2.97785524e-10-5.30666338e-10j],\n",
       "       ...,\n",
       "       [-2.71665271e-10-5.44373065e-10j, -6.25108819e-10-1.27125738e-09j,\n",
       "        -1.13342425e-09-2.37577503e-09j, ...,\n",
       "        -7.49819435e-01+5.74582389e-01j,  1.34923052e-01+1.50134186e-01j,\n",
       "         5.23169108e-02+3.62762415e-02j],\n",
       "       [-1.57794625e-10-2.87317731e-10j, -3.63484595e-10-6.71161270e-10j,\n",
       "        -6.60556942e-10-1.25502980e-09j, ...,\n",
       "         1.34923052e-01+1.50134186e-01j, -7.74873911e-01+5.64884112e-01j,\n",
       "         1.03161373e-01+1.37647713e-01j],\n",
       "       [-7.09596223e-11-1.21501163e-10j, -1.63563001e-10-2.83879131e-10j,\n",
       "        -2.97641208e-10-5.31052826e-10j, ...,\n",
       "         5.23169108e-02+3.62762415e-02j,  1.03161373e-01+1.37647713e-01j,\n",
       "        -8.32236861e-01+5.21874118e-01j]])"
      ]
     },
     "execution_count": 11,
     "metadata": {},
     "output_type": "execute_result"
    }
   ],
   "source": [
    "# generate_S_tot_opt export\n",
    "genStopt_export = generate_S_tot_opt(sP_export, L)\n",
    "#np.savetxt('matrices/genStopt_python.csv', genStopt_export, delimiter=',', fmt='%f')\n",
    "genStopt_export"
   ]
  },
  {
   "cell_type": "code",
   "execution_count": null,
   "metadata": {},
   "outputs": [],
   "source": []
  },
  {
   "cell_type": "markdown",
   "metadata": {},
   "source": [
    "## Where the magic happens"
   ]
  },
  {
   "cell_type": "markdown",
   "metadata": {},
   "source": [
    "##### Calculate the T_tot matrix, the outcomming waves and find the coefficients"
   ]
  },
  {
   "cell_type": "markdown",
   "metadata": {},
   "source": [
    "The waves are normalized by the current $<I>$. As the current operator is now $\\sigma_z$, we divide by the norms."
   ]
  },
  {
   "cell_type": "code",
   "execution_count": 17,
   "metadata": {},
   "outputs": [],
   "source": [
    "def solve(mu, V, L, i, opt):\n",
    "    if opt == True:\n",
    "        S_tot = generate_S_tot_opt(V, L)\n",
    "    else:\n",
    "        S_tot = generate_S_tot(V, L)\n",
    "    S11 = S_tot[:N, :N]\n",
    "    S12 = S_tot[:N, N:2*N]\n",
    "    S21 = S_tot[N:2*N, :N]\n",
    "    S22 = S_tot[N:2*N, N:2*N]\n",
    "\n",
    "    # find the eigenvalues and vectors\n",
    "    eig_val, eig_vec = np.linalg.eig(T(mu))\n",
    "    eig_val_round = np.round(eig_val, 10)\n",
    "    #return eig_val, eig_vec\n",
    "\n",
    "    # get indices of the forward and backward propagating waves and the\n",
    "    # evanescent growing and decaying waves\n",
    "    idx_R = np.where(eig_val_round.imag > 0.)[0]  # waves that propagate right\n",
    "    idx_L = np.where(eig_val_round.imag < 0.)[0]  # waves that propagate left\n",
    "    idx_evan = np.where(eig_val_round.imag == 0)[0]  # evanescent waves\n",
    "    # evanescent growing waves\n",
    "    idx_grow = np.where(np.abs(eig_val_round[idx_evan]) > 1)[0]\n",
    "    # evanescent decaying waves\n",
    "    idx_dec = np.where(np.abs(eig_val_round[idx_evan]) < 1)[0]\n",
    "\n",
    "    psi_R = eig_vec[:, idx_R]\n",
    "    psi_L = eig_vec[:, idx_L]\n",
    "    ev_dec = eig_vec[:, idx_evan][:, idx_dec]\n",
    "    ev_grow = eig_vec[:, idx_evan][:, idx_grow]\n",
    "\n",
    "    # normalize the wavefunctions\n",
    "    psi_R_norm = np.linalg.norm(\n",
    "        psi_R[N:2*N], axis=0)**2 - np.linalg.norm(psi_R[:N], axis=0)**2\n",
    "    psi_L_norm = np.linalg.norm(\n",
    "        psi_L[:N], axis=0)**2 - np.linalg.norm(psi_L[N:2*N], axis=0)**2\n",
    "    psi_R /= np.sqrt(np.abs(psi_R_norm))\n",
    "    psi_L /= np.sqrt(np.abs(psi_L_norm))\n",
    "\n",
    "    # generate and solve the system of equations for the matching conditions\n",
    "    U_L_top = np.hstack((-S12.dot(psi_R[N:2*N]), ev_grow[N:2*N] - S11.dot(ev_grow[:N]),\n",
    "                         psi_L[N:2*N] - S11.dot(psi_L[:N]), -S12.dot(ev_dec[N:2*N])))\n",
    "    \n",
    "    #return U_L_top\n",
    "    U_L_bot = np.hstack((psi_R[:N] - S22.dot(psi_R[N:2*N]), -S21.dot(ev_grow[:N]),\n",
    "                         -S21.dot(psi_L[:N]), ev_dec[:N] - S22.dot(ev_dec[N:2*N])))\n",
    "\n",
    "    U_L = np.vstack((U_L_top, U_L_bot))\n",
    "\n",
    "    U_R_top = S11.dot(psi_R[:N]) - psi_R[N:2*N]\n",
    "    U_R_bot = S21.dot(psi_R[:N])\n",
    "    U_R = np.vstack((U_R_top, U_R_bot))\n",
    "\n",
    "    # find the coefficients and put them in seperate matrices\n",
    "    coeff = np.dot(np.linalg.inv(U_L), U_R)\n",
    "\n",
    "    N_in = psi_L.shape[1]  # number of incomming waves\n",
    "    N_ev = ev_dec.shape[1]  # number of evanescent waves\n",
    "\n",
    "    t_matrix = coeff[:N_in, :]\n",
    "    alpha = coeff[N_in:N_in+N_ev, :]\n",
    "    r = coeff[N_in+N_ev:2*N_in+N_ev, :]\n",
    "    beta = coeff[2*N_in+N_ev:2*N_in+2*N_ev, :]\n",
    "\n",
    "    G = np.linalg.norm(t_matrix)**2\n",
    "\n",
    "    test = np.sum(np.abs(t_matrix)**2+np.abs(r)**2, axis=0)\n",
    "    test2 = np.round(np.sum(test)/len(test), 5)\n",
    "    if test2 != 1:\n",
    "        print(\"Unitarity not preserved at \" +\n",
    "              str(i) + \" for mu, L \" + str(mu) + str(L))\n",
    "\n",
    "    return G, t_matrix, alpha, r, beta"
   ]
  },
  {
   "cell_type": "code",
   "execution_count": 18,
   "metadata": {},
   "outputs": [
    {
     "ename": "ValueError",
     "evalue": "too many values to unpack (expected 2)",
     "output_type": "error",
     "traceback": [
      "\u001b[0;31m---------------------------------------------------------------------------\u001b[0m",
      "\u001b[0;31mValueError\u001b[0m                                Traceback (most recent call last)",
      "\u001b[0;32m<ipython-input-18-9e5e4a7ce6ce>\u001b[0m in \u001b[0;36m<module>\u001b[0;34m\u001b[0m\n\u001b[1;32m      1\u001b[0m \u001b[0;31m# solve test\u001b[0m\u001b[0;34m\u001b[0m\u001b[0;34m\u001b[0m\u001b[0;34m\u001b[0m\u001b[0m\n\u001b[1;32m      2\u001b[0m \u001b[0mV\u001b[0m \u001b[0;34m=\u001b[0m \u001b[0msmooth_potential\u001b[0m\u001b[0;34m(\u001b[0m\u001b[0mmu\u001b[0m\u001b[0;34m,\u001b[0m \u001b[0mL\u001b[0m\u001b[0;34m,\u001b[0m \u001b[0mxx\u001b[0m\u001b[0;34m=\u001b[0m\u001b[0;36m1\u001b[0m\u001b[0;34m,\u001b[0m \u001b[0myy\u001b[0m\u001b[0;34m=\u001b[0m\u001b[0;36m1\u001b[0m\u001b[0;34m,\u001b[0m \u001b[0mh\u001b[0m\u001b[0;34m=\u001b[0m\u001b[0;36m.6\u001b[0m\u001b[0;34m,\u001b[0m \u001b[0mplot\u001b[0m\u001b[0;34m=\u001b[0m\u001b[0;32mFalse\u001b[0m\u001b[0;34m)\u001b[0m\u001b[0;34m\u001b[0m\u001b[0;34m\u001b[0m\u001b[0m\n\u001b[0;32m----> 3\u001b[0;31m \u001b[0ma\u001b[0m\u001b[0;34m,\u001b[0m \u001b[0mb\u001b[0m \u001b[0;34m=\u001b[0m \u001b[0msolve\u001b[0m\u001b[0;34m(\u001b[0m\u001b[0mmu\u001b[0m\u001b[0;34m,\u001b[0m \u001b[0mV\u001b[0m\u001b[0;34m,\u001b[0m \u001b[0mL\u001b[0m\u001b[0;34m,\u001b[0m \u001b[0mmu\u001b[0m\u001b[0;34m,\u001b[0m \u001b[0mopt\u001b[0m \u001b[0;34m=\u001b[0m \u001b[0;32mFalse\u001b[0m\u001b[0;34m)\u001b[0m\u001b[0;34m\u001b[0m\u001b[0;34m\u001b[0m\u001b[0m\n\u001b[0m\u001b[1;32m      4\u001b[0m \u001b[0;34m\u001b[0m\u001b[0m\n\u001b[1;32m      5\u001b[0m \u001b[0;31m#np.savetxt('matrices/eigvalPY.csv', a, delimiter=',', fmt='%f')\u001b[0m\u001b[0;34m\u001b[0m\u001b[0;34m\u001b[0m\u001b[0;34m\u001b[0m\u001b[0m\n",
      "\u001b[0;31mValueError\u001b[0m: too many values to unpack (expected 2)"
     ]
    }
   ],
   "source": [
    "# solve test\n",
    "V = smooth_potential(mu, L, xx=1, yy=1, h=.6, plot=False)\n",
    "a, b = solve(mu, V, L, mu, opt = False)\n",
    "\n",
    "#np.savetxt('matrices/eigvalPY.csv', a, delimiter=',', fmt='%f')\n",
    "#np.savetxt('matrices/eigvecPY.csv', b, delimiter=',', fmt='%f')"
   ]
  },
  {
   "cell_type": "markdown",
   "metadata": {},
   "source": [
    "## Plot the potential"
   ]
  },
  {
   "cell_type": "code",
   "execution_count": null,
   "metadata": {},
   "outputs": [],
   "source": [
    "en = 0.5\n",
    "L = 200\n",
    "N = 40\n",
    "V = smooth_potential(en, L, xx=1, yy=1, h=.6, plot=True)\n",
    "#a = solve(en, V, L, en, opt = True)\n",
    "#np.sum(np.abs(a))"
   ]
  },
  {
   "cell_type": "markdown",
   "metadata": {},
   "source": [
    "# Quantized Conductance of a quantum point contact (QPC)"
   ]
  },
  {
   "cell_type": "code",
   "execution_count": 21,
   "metadata": {},
   "outputs": [
    {
     "data": {
      "image/png": "[encoded data removed]",
      "text/plain": [
       "<Figure size 432x288 with 1 Axes>"
      ]
     },
     "metadata": {
      "needs_background": "light"
     },
     "output_type": "display_data"
    }
   ],
   "source": [
    "N = 40 # number of transverse lattice points\n",
    "L = 200 # length of the scattering region\n",
    "\n",
    "G = []\n",
    "\n",
    "energies = np.linspace(.3, 1, 50)\n",
    "for en in energies:\n",
    "    V = smooth_potential(en, L, xx=1, yy=1, h=.6, plot=False)\n",
    "    G.append(solve(en, V, L, en, opt = True)[0])\n",
    "    \n",
    "plt.plot(energies, G)\n",
    "plt.title('Quantized Conductance of a quantum point contact (QPC)')\n",
    "plt.xlabel('energy [t]')\n",
    "plt.ylabel('conductance [e^2/h]')\n",
    "plt.show()\n",
    "\n",
    "np.savetxt('matrices/QGpy.csv', G, delimiter=',', fmt='%f')"
   ]
  },
  {
   "cell_type": "markdown",
   "metadata": {},
   "source": [
    "## Leads become available"
   ]
  },
  {
   "cell_type": "code",
   "execution_count": 43,
   "metadata": {},
   "outputs": [
    {
     "data": {
      "image/png": "[encoded data removed]",
      "text/plain": [
       "<Figure size 432x288 with 1 Axes>"
      ]
     },
     "metadata": {
      "needs_background": "light"
     },
     "output_type": "display_data"
    }
   ],
   "source": [
    "G2 = []\n",
    "for en in energies:\n",
    "    V = smooth_potential(en, L, xx=1, yy=1, h=0, plot=False)\n",
    "    G2.append(solve(en, V, L, en, opt = True)[0])\n",
    "\n",
    "plt.title('Quantized Conductance of a quantum point contact (QPC) for different heigts of potential')\n",
    "plt.xlabel('energy [t]')\n",
    "plt.plot(energies, G, energies, G2)\n",
    "plt.show()"
   ]
  },
  {
   "cell_type": "markdown",
   "metadata": {},
   "source": [
    "# Anderson Localization"
   ]
  },
  {
   "cell_type": "code",
   "execution_count": 8,
   "metadata": {},
   "outputs": [
    {
     "ename": "ValueError",
     "evalue": "shapes (20,20) and (0,0) not aligned: 20 (dim 1) != 0 (dim 0)",
     "output_type": "error",
     "traceback": [
      "\u001b[0;31m---------------------------------------------------------------------------\u001b[0m",
      "\u001b[0;31mValueError\u001b[0m                                Traceback (most recent call last)",
      "\u001b[0;32m<ipython-input-8-0fd2e05d848f>\u001b[0m in \u001b[0;36m<module>\u001b[0;34m\u001b[0m\n\u001b[1;32m      6\u001b[0m \u001b[0;32mfor\u001b[0m \u001b[0mL\u001b[0m \u001b[0;32min\u001b[0m \u001b[0mlengths\u001b[0m\u001b[0;34m:\u001b[0m\u001b[0;34m\u001b[0m\u001b[0;34m\u001b[0m\u001b[0m\n\u001b[1;32m      7\u001b[0m     \u001b[0mV\u001b[0m \u001b[0;34m=\u001b[0m \u001b[0mnp\u001b[0m\u001b[0;34m.\u001b[0m\u001b[0mrandom\u001b[0m\u001b[0;34m.\u001b[0m\u001b[0mrand\u001b[0m\u001b[0;34m(\u001b[0m\u001b[0mN\u001b[0m\u001b[0;34m,\u001b[0m\u001b[0mL\u001b[0m\u001b[0;34m)\u001b[0m\u001b[0;34m\u001b[0m\u001b[0;34m\u001b[0m\u001b[0m\n\u001b[0;32m----> 8\u001b[0;31m     \u001b[0mG\u001b[0m\u001b[0;34m.\u001b[0m\u001b[0mappend\u001b[0m\u001b[0;34m(\u001b[0m\u001b[0msolve\u001b[0m\u001b[0;34m(\u001b[0m\u001b[0mmu\u001b[0m\u001b[0;34m,\u001b[0m \u001b[0mV\u001b[0m\u001b[0;34m,\u001b[0m \u001b[0mL\u001b[0m\u001b[0;34m,\u001b[0m \u001b[0mL\u001b[0m\u001b[0;34m,\u001b[0m \u001b[0mopt\u001b[0m \u001b[0;34m=\u001b[0m \u001b[0;32mFalse\u001b[0m\u001b[0;34m)\u001b[0m\u001b[0;34m[\u001b[0m\u001b[0;36m0\u001b[0m\u001b[0;34m]\u001b[0m\u001b[0;34m)\u001b[0m\u001b[0;34m\u001b[0m\u001b[0;34m\u001b[0m\u001b[0m\n\u001b[0m\u001b[1;32m      9\u001b[0m \u001b[0;34m\u001b[0m\u001b[0m\n\u001b[1;32m     10\u001b[0m \u001b[0;32mdef\u001b[0m \u001b[0mfunc\u001b[0m\u001b[0;34m(\u001b[0m\u001b[0mx\u001b[0m\u001b[0;34m,\u001b[0m \u001b[0ma\u001b[0m\u001b[0;34m,\u001b[0m \u001b[0mb\u001b[0m\u001b[0;34m,\u001b[0m \u001b[0mc\u001b[0m\u001b[0;34m)\u001b[0m\u001b[0;34m:\u001b[0m\u001b[0;34m\u001b[0m\u001b[0;34m\u001b[0m\u001b[0m\n",
      "\u001b[0;32m<ipython-input-4-b18f37ae3769>\u001b[0m in \u001b[0;36msolve\u001b[0;34m(mu, V, L, i, opt)\u001b[0m\n\u001b[1;32m      3\u001b[0m         \u001b[0mS_tot\u001b[0m \u001b[0;34m=\u001b[0m \u001b[0mgenerate_S_tot_opt\u001b[0m\u001b[0;34m(\u001b[0m\u001b[0mV\u001b[0m\u001b[0;34m,\u001b[0m \u001b[0mL\u001b[0m\u001b[0;34m)\u001b[0m\u001b[0;34m\u001b[0m\u001b[0;34m\u001b[0m\u001b[0m\n\u001b[1;32m      4\u001b[0m     \u001b[0;32melse\u001b[0m\u001b[0;34m:\u001b[0m\u001b[0;34m\u001b[0m\u001b[0;34m\u001b[0m\u001b[0m\n\u001b[0;32m----> 5\u001b[0;31m         \u001b[0mS_tot\u001b[0m \u001b[0;34m=\u001b[0m \u001b[0mgenerate_S_tot\u001b[0m\u001b[0;34m(\u001b[0m\u001b[0mV\u001b[0m\u001b[0;34m,\u001b[0m \u001b[0mL\u001b[0m\u001b[0;34m)\u001b[0m\u001b[0;34m\u001b[0m\u001b[0;34m\u001b[0m\u001b[0m\n\u001b[0m\u001b[1;32m      6\u001b[0m     \u001b[0mS11\u001b[0m \u001b[0;34m=\u001b[0m \u001b[0mS_tot\u001b[0m\u001b[0;34m[\u001b[0m\u001b[0;34m:\u001b[0m\u001b[0mN\u001b[0m\u001b[0;34m,\u001b[0m \u001b[0;34m:\u001b[0m\u001b[0mN\u001b[0m\u001b[0;34m]\u001b[0m\u001b[0;34m\u001b[0m\u001b[0;34m\u001b[0m\u001b[0m\n\u001b[1;32m      7\u001b[0m     \u001b[0mS12\u001b[0m \u001b[0;34m=\u001b[0m \u001b[0mS_tot\u001b[0m\u001b[0;34m[\u001b[0m\u001b[0;34m:\u001b[0m\u001b[0mN\u001b[0m\u001b[0;34m,\u001b[0m \u001b[0mN\u001b[0m\u001b[0;34m:\u001b[0m\u001b[0;36m2\u001b[0m\u001b[0;34m*\u001b[0m\u001b[0mN\u001b[0m\u001b[0;34m]\u001b[0m\u001b[0;34m\u001b[0m\u001b[0;34m\u001b[0m\u001b[0m\n",
      "\u001b[0;32m<ipython-input-2-23875aec3df1>\u001b[0m in \u001b[0;36mgenerate_S_tot\u001b[0;34m(V, L)\u001b[0m\n\u001b[1;32m     72\u001b[0m     \u001b[0mS_tot\u001b[0m \u001b[0;34m=\u001b[0m \u001b[0mS\u001b[0m\u001b[0;34m(\u001b[0m\u001b[0mT\u001b[0m\u001b[0;34m(\u001b[0m\u001b[0mV\u001b[0m\u001b[0;34m[\u001b[0m\u001b[0;34m:\u001b[0m\u001b[0;34m,\u001b[0m \u001b[0;36m0\u001b[0m\u001b[0;34m]\u001b[0m\u001b[0;34m)\u001b[0m\u001b[0;34m)\u001b[0m\u001b[0;34m\u001b[0m\u001b[0;34m\u001b[0m\u001b[0m\n\u001b[1;32m     73\u001b[0m     \u001b[0;32mfor\u001b[0m \u001b[0mj\u001b[0m \u001b[0;32min\u001b[0m \u001b[0mrange\u001b[0m\u001b[0;34m(\u001b[0m\u001b[0;36m1\u001b[0m\u001b[0;34m,\u001b[0m \u001b[0mL\u001b[0m\u001b[0;34m)\u001b[0m\u001b[0;34m:\u001b[0m\u001b[0;34m\u001b[0m\u001b[0;34m\u001b[0m\u001b[0m\n\u001b[0;32m---> 74\u001b[0;31m         \u001b[0mS_tot\u001b[0m \u001b[0;34m=\u001b[0m \u001b[0madd_S\u001b[0m\u001b[0;34m(\u001b[0m\u001b[0mS_tot\u001b[0m\u001b[0;34m,\u001b[0m \u001b[0mS\u001b[0m\u001b[0;34m(\u001b[0m\u001b[0mT\u001b[0m\u001b[0;34m(\u001b[0m\u001b[0mV\u001b[0m\u001b[0;34m[\u001b[0m\u001b[0;34m:\u001b[0m\u001b[0;34m,\u001b[0m \u001b[0mj\u001b[0m\u001b[0;34m]\u001b[0m\u001b[0;34m)\u001b[0m\u001b[0;34m)\u001b[0m\u001b[0;34m)\u001b[0m\u001b[0;34m\u001b[0m\u001b[0;34m\u001b[0m\u001b[0m\n\u001b[0m\u001b[1;32m     75\u001b[0m     \u001b[0;32mreturn\u001b[0m \u001b[0mS_tot\u001b[0m\u001b[0;34m\u001b[0m\u001b[0;34m\u001b[0m\u001b[0m\n\u001b[1;32m     76\u001b[0m \u001b[0;34m\u001b[0m\u001b[0m\n",
      "\u001b[0;32m<ipython-input-2-23875aec3df1>\u001b[0m in \u001b[0;36madd_S\u001b[0;34m(S_1, S_2)\u001b[0m\n\u001b[1;32m     54\u001b[0m     \u001b[0;31m#return S11_1, S12_1, S21_1, S22_1\u001b[0m\u001b[0;34m\u001b[0m\u001b[0;34m\u001b[0m\u001b[0;34m\u001b[0m\u001b[0m\n\u001b[1;32m     55\u001b[0m \u001b[0;34m\u001b[0m\u001b[0m\n\u001b[0;32m---> 56\u001b[0;31m     \u001b[0minv_1\u001b[0m \u001b[0;34m=\u001b[0m \u001b[0mnp\u001b[0m\u001b[0;34m.\u001b[0m\u001b[0mlinalg\u001b[0m\u001b[0;34m.\u001b[0m\u001b[0minv\u001b[0m\u001b[0;34m(\u001b[0m\u001b[0mnp\u001b[0m\u001b[0;34m.\u001b[0m\u001b[0meye\u001b[0m\u001b[0;34m(\u001b[0m\u001b[0mN\u001b[0m\u001b[0;34m)\u001b[0m \u001b[0;34m-\u001b[0m \u001b[0mS11_2\u001b[0m\u001b[0;34m.\u001b[0m\u001b[0mdot\u001b[0m\u001b[0;34m(\u001b[0m\u001b[0mS22_1\u001b[0m\u001b[0;34m)\u001b[0m\u001b[0;34m)\u001b[0m\u001b[0;34m\u001b[0m\u001b[0;34m\u001b[0m\u001b[0m\n\u001b[0m\u001b[1;32m     57\u001b[0m     \u001b[0minv_2\u001b[0m \u001b[0;34m=\u001b[0m \u001b[0mnp\u001b[0m\u001b[0;34m.\u001b[0m\u001b[0mlinalg\u001b[0m\u001b[0;34m.\u001b[0m\u001b[0minv\u001b[0m\u001b[0;34m(\u001b[0m\u001b[0mnp\u001b[0m\u001b[0;34m.\u001b[0m\u001b[0meye\u001b[0m\u001b[0;34m(\u001b[0m\u001b[0mN\u001b[0m\u001b[0;34m)\u001b[0m \u001b[0;34m-\u001b[0m \u001b[0mS22_1\u001b[0m\u001b[0;34m.\u001b[0m\u001b[0mdot\u001b[0m\u001b[0;34m(\u001b[0m\u001b[0mS11_2\u001b[0m\u001b[0;34m)\u001b[0m\u001b[0;34m)\u001b[0m\u001b[0;34m\u001b[0m\u001b[0;34m\u001b[0m\u001b[0m\n\u001b[1;32m     58\u001b[0m \u001b[0;34m\u001b[0m\u001b[0m\n",
      "\u001b[0;31mValueError\u001b[0m: shapes (20,20) and (0,0) not aligned: 20 (dim 1) != 0 (dim 0)"
     ]
    }
   ],
   "source": [
    "%%capture --no-stdout\n",
    "from scipy.optimize import curve_fit\n",
    "N = 20\n",
    "G = []\n",
    "lengths = np.arange(300, 1000, 20)\n",
    "mu = 0.1\n",
    "for L in lengths:\n",
    "    V = np.random.rand(N,L)\n",
    "    G.append(solve(mu, V, L, L, opt = False)[0])\n",
    "\n",
    "def func(x, a, b, c):\n",
    "    return a * np.exp(-b * x) + c\n",
    "\n",
    "popt, pcov = curve_fit(func, lengths, G)\n",
    "\n",
    "plt.figure()\n",
    "\n",
    "plt.plot(lengths, G, 'ko', label=\"Original Noised Data\")\n",
    "plt.plot(lengths, func(lengths, *popt), 'r-', label=\"Fitted Curve\")\n",
    "plt.xlabel(\"length [L]\")\n",
    "plt.ylabel(\"conductance [e^2/h]\")\n",
    "plt.legend()\n",
    "plt.show()"
   ]
  },
  {
   "cell_type": "code",
   "execution_count": null,
   "metadata": {},
   "outputs": [],
   "source": []
  }
 ],
 "metadata": {
  "kernelspec": {
   "display_name": "Python 3",
   "language": "python",
   "name": "python3"
  },
  "language_info": {
   "codemirror_mode": {
    "name": "ipython",
    "version": 3
   },
   "file_extension": ".py",
   "mimetype": "text/x-python",
   "name": "python",
   "nbconvert_exporter": "python",
   "pygments_lexer": "ipython3",
   "version": "3.7.10"
  }
 },
 "nbformat": 4,
 "nbformat_minor": 1
}
