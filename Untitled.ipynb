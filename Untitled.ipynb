{
 "cells": [
  {
   "cell_type": "markdown",
   "metadata": {},
   "source": [
    "# Numerical solutions to the quantum transport problem in a 1D system\n",
    "\n",
    "The quantum transport system we will be investigating in this notebook is a quantum point contact (QPC).\n",
    "This is simple system which displays quasi-one-dimensional quantum transport phenomena such as the characteristic quantisation of conductance.\n",
    "\n",
    "In the name of simplifying the numerical solving process, we treat the device's constriction with a **saddle-point approximation** of the confinement potential energy.\n",
    "\n",
    "We then frame the transport problem using the **non-equilibrium Green function formalism** (NGEF), and obtain solutions for the conductance $G$ for varying bias potentials."
   ]
  },
  {
   "cell_type": "markdown",
   "metadata": {},
   "source": [
    "## Packages:"
   ]
  },
  {
   "cell_type": "code",
   "execution_count": 1,
   "metadata": {},
   "outputs": [],
   "source": [
    "using CSV\n",
    "using Plots\n",
    "using Images\n",
    "using DataFrames\n",
    "using LinearAlgebra\n",
    "using DelimitedFiles"
   ]
  },
  {
   "cell_type": "markdown",
   "metadata": {},
   "source": [
    "## The QPC device\n",
    "\n",
    "When a negative voltage split-gate is applied on top of a 2DEG; the conductance of the QPC, in the unconfined electron momentum dimension, was found to be quantised in multiple of:\n",
    "\n",
    "$G_0 = \\frac{2e^2}{h}$\n",
    "\n",
    "**This is classic result associated with ballistic transport of electrons across a one-dimensional channel**.\n",
    "The figure below illustrates the heterojunction geometry used to achieve this, notice that the system can sufficiently be described by 2 dimensions globally and behaves as a quasi-one-dimensional system in the constriction channel.\n",
    "\n",
    "![Imgur](https://imgur.com/h1KrE1H.png)\n",
    "\n",
    "\n",
    "Bias potentials $V_{s}$ and $V_{d}$, applied to the source and drain respectively,  create a potential differnce $V_{sd}$, which is dropped along the path between the terminals $S$ and $D$.\n",
    "We shall cover the different ways in which this potential energy can be distributed along the dimension in which electron momentum is free later in our analysis.\n",
    "\n",
    "The negative voltages $V_{sg1}$ and $V_{sg2}$, applied at the split-gate terminals $SG1$ and $SG2$, provide a confinement potential for the electrons crossing the channel ballistically.\n",
    "\n",
    "Recalling the behaviour of single electrons confined in quantum wells, we can say that the number of conducting bands and sub-bands in the channel will depend on the profile of the applied potential in the lateral (restricted) dimension 'Y'.\n",
    "\n",
    "Cartesian profile of the system:\n",
    "\n",
    "> Z -- dimension in which the **3DEG** is confined to form a **2DEG**\n",
    ">\n",
    "> Y -- dimension in which the **2DEG** is confined to form a **1DEG** (constriction)\n",
    ">\n",
    "> X -- free dimension in which quantum transport is considered **ballistic**"
   ]
  },
  {
   "cell_type": "code",
   "execution_count": null,
   "metadata": {},
   "outputs": [],
   "source": []
  }
 ],
 "metadata": {
  "kernelspec": {
   "display_name": "Julia 1.5.3",
   "language": "julia",
   "name": "julia-1.5"
  },
  "language_info": {
   "file_extension": ".jl",
   "mimetype": "application/julia",
   "name": "julia",
   "version": "1.5.3"
  }
 },
 "nbformat": 4,
 "nbformat_minor": 4
}
